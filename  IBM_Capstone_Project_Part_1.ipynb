{
 "cells": [
  {
   "cell_type": "markdown",
   "metadata": {},
   "source": [
    "# IBM Applied Data Science Capstone Project\n",
    "\n",
    "## Best Neighborhood Research for Opening a Restaurant in Eindhoven\n",
    "\n",
    "### A. Introduction:\n",
    "\n",
    "This is a project proposal paper for the final weeks of the “Capstone Project” of the “IBM Applied Data Science Capstone Course”. In this project, I would like to examine the best neighborhood in Eindhoven (The Netherlands) for the entrepreneurs in order to open a new restaurant. During the project, I will use Python language, python data science libraries (NumPy, Pandas), machine learning algorithms(clustering), visualization of data (Seaborn, MatPlotLib) and foursquare API, etc. \n",
    "\n",
    "This project will be an additional resource (not main) for the entrepreneurs who would like to open a new restaurant in Eindhoven. \n",
    "\n",
    "### B. Description and Background of the Problem:\n",
    "In the project, I will analyze the Eindhoven city of the Netherlands. As you may know,  Eindhoven is the fifth-largest city and a municipality of the Netherlands, located in the south of the country. It had a population of 231,469 in 2019, making it the largest city in the province of North Brabant. Neighboring cities and towns include Son en Breugel, Nuenen, Geldrop-Mierlo, Helmond, Heeze-Leende, Waalre, Veldhoven, Eersel, Oirschot and Best. The agglomeration has a population of 337,487. The metropolitan area consists of 419,045 inhabitants. The city region has a population of 753,426. (Source: https://en.wikipedia.org/wiki/Eindhoven ; access date: 15.04.2020)\n",
    "\n",
    "According to TripAdvisor, there are around 200 restaurants in Eindhoven and most of them take place in the heart of the city. When I read the comments regarding those restaurants, there is always a gap for a high-quality restaurant in Eindhoven.\n",
    "\n",
    "As it is well known, deciding the location and neighborhood for a restaurant is a vital step for the start-ups and entrepreneurs. The importance may be equal or more than the decoration, the menu quality, foods, and cooks as well. \n",
    "Therefore, my question is simple and basic: Where is the best place for a new restaurant in Eindhoven. \n",
    "\n",
    "When I did a quick search on the internet regarding the importance of the locations of restaurants, I found an article named \"4 Important Factors When Choosing a Location to Open a Restaurant\". The article summarizes the four vital factors for the locations of the restaurants. These which are;\n",
    "\n",
    "- Parking: \n",
    "A restaurant should have its own parking lot. If that isn’t an option (for example, in major cities), consider partnering with a hotel in the area that has its own parking options. Also, it has an acceptable distance to public parking lots.\n",
    "\n",
    "- Accessibility: \n",
    "There’s a reason that major restaurant chains are often located near highway exits: It makes them accessible for customers. Also, it is a good option to close distance to public transportations. Light Rail Station, Metro Station, Train/Tram Station, Bus Stops around the restaurant is to provide convenience for customers.\n",
    "\n",
    "- Visibility: \n",
    " This goes along with accessibility and is very important for new restaurant locations. People have to know the restaurant is there, either in person or on their mobile devices.\n",
    "\n",
    "- Population Base: \n",
    " There need to be enough people who live in or pass through the area regularly to keep the restaurant busy. So \"the particular area's population base\" is another important factor in a suitable place for a new restaurant.\n",
    " \n",
    "In accordance with the above factors, I can say Eindhoven has a population advantage with its huge industry and well-known companies such as Philips, Here, etc. as well as the Technical University of Eindhoven. The population base factor is suitable for Eindhoven. However, due to lack of data, I will focus on the first two factors: Parking and Accessibility and will collect data about them.\n",
    "    \n",
    "### C. Description of the Data:\n",
    "For solving the problem, it is clear that we need a different type of data. Which are:\n",
    "\n",
    "- List of neighborhoods of Eindhoven\n",
    "- Car Parking list and their geolocations of Eindhoven\n",
    "- Light Rail/Metro/Train/Tram/Bus Station list and their geolocations of Eindhoven\n",
    "\n",
    "When I searched on the internet, I found the \"open source of the Eindhoven\" web site(open.eindhoven.nl), where publishes formal, regular statistical datasets in various issues. we got the first and fourth datasets from there.\n",
    "\n",
    "The second and third datasets are the point of interest (POI)and it is easy to reach them by Foursquare API. So, I get the data via the Foursquare API."
   ]
  },
  {
   "cell_type": "code",
   "execution_count": null,
   "metadata": {},
   "outputs": [],
   "source": []
  }
 ],
 "metadata": {
  "kernelspec": {
   "display_name": "Python 3",
   "language": "python",
   "name": "python3"
  },
  "language_info": {
   "codemirror_mode": {
    "name": "ipython",
    "version": 3
   },
   "file_extension": ".py",
   "mimetype": "text/x-python",
   "name": "python",
   "nbconvert_exporter": "python",
   "pygments_lexer": "ipython3",
   "version": "3.7.3"
  }
 },
 "nbformat": 4,
 "nbformat_minor": 2
}
